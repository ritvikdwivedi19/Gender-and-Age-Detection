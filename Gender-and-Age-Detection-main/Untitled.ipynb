{
 "cells": [
  {
   "cell_type": "code",
   "execution_count": 1,
   "id": "b734ea1d",
   "metadata": {},
   "outputs": [],
   "source": [
    "import pandas as pd\n",
    "import numpy as np\n",
    "import os\n",
    "import matplotlib.pyplot as plt\n",
    "import seaborn as sns\n",
    "import warnings\n",
    "from tqdm.notebook import tqdm\n",
    "warnings.filterwarnings('ignore')\n",
    "%matplotlib inline"
   ]
  },
  {
   "cell_type": "code",
   "execution_count": 2,
   "id": "ed45467f",
   "metadata": {},
   "outputs": [
    {
     "data": {
      "application/vnd.jupyter.widget-view+json": {
       "model_id": "06792a7c2082478aba1d6c4eb3ff30fb",
       "version_major": 2,
       "version_minor": 0
      },
      "text/plain": [
       "  0%|          | 0/23708 [00:00<?, ?it/s]"
      ]
     },
     "metadata": {},
     "output_type": "display_data"
    }
   ],
   "source": [
    "BASE_DIR = 'UTKFace/'\n",
    "# Reading all the images present in Base_Dir\n",
    "image_paths = []\n",
    "age_labels = []\n",
    "gender_labels = []\n",
    "\n",
    "for filename in tqdm(os.listdir(BASE_DIR)):\n",
    "    image_path = os.path.join(BASE_DIR, filename)\n",
    "    temp = filename.split('_')\n",
    "    age = int(temp[0])\n",
    "    gender = int(temp[1])\n",
    "    image_paths.append(image_path)\n",
    "    age_labels.append(age)\n",
    "    gender_labels.append(gender)"
   ]
  },
  {
   "cell_type": "code",
   "execution_count": 3,
   "id": "fe283ddd",
   "metadata": {},
   "outputs": [],
   "source": [
    "df = pd.DataFrame()\n",
    "df['image'], df['age'], df['gender'] = image_paths, age_labels, gender_labels"
   ]
  },
  {
   "cell_type": "code",
   "execution_count": 4,
   "id": "27471753",
   "metadata": {},
   "outputs": [],
   "source": [
    "gender_dict = {0:'Male', 1:'Female'}\n",
    "df = df.astype({'age':'float32', 'gender': 'int32'})\n",
    "from sklearn.model_selection import train_test_split\n",
    "train, test = train_test_split(df, test_size=0.85, random_state=42)"
   ]
  },
  {
   "cell_type": "code",
   "execution_count": 5,
   "id": "7829e5a9",
   "metadata": {},
   "outputs": [],
   "source": [
    "from PIL import Image\n",
    "import tensorflow as tf\n",
    "from tensorflow import keras\n",
    "from keras import utils\n",
    "from keras.preprocessing import image\n",
    "x_train = []\n",
    "for file in train.image:\n",
    "    img = keras.utils.load_img(\"\"+file, grayscale=True)\n",
    "    img = img.resize((128,128), Image.ANTIALIAS)\n",
    "    img = np.array(img)\n",
    "    x_train.append(img)\n",
    "\n",
    "x_train = np.array(x_train)\n",
    "\n",
    "x_train = x_train.reshape(len(x_train), 128,128,1)"
   ]
  },
  {
   "cell_type": "code",
   "execution_count": 6,
   "id": "a0b33c9c",
   "metadata": {},
   "outputs": [],
   "source": [
    "x_train.shape\n",
    "x_train = x_train/255\n",
    "y_gender = np.array(train.gender)\n",
    "y_age = np.array(train.age)"
   ]
  },
  {
   "cell_type": "code",
   "execution_count": 7,
   "id": "0b75631e",
   "metadata": {},
   "outputs": [],
   "source": [
    "from tensorflow.keras.initializers import random_uniform, glorot_uniform, constant, identity\n",
    "from tensorflow.keras.layers import Dropout, Input, Add, Dense, Activation, BatchNormalization, Flatten, Conv2D, MaxPooling2D, GlobalMaxPooling2D\n",
    "from tensorflow.keras.models import Model, load_model\n",
    "input_size = (128,128,1)\n",
    "inputs = Input((input_size))\n",
    "X = Conv2D(64, (3, 3), activation='relu', kernel_initializer = glorot_uniform(seed=0))(inputs)\n",
    "X = BatchNormalization(axis = 3)(X)\n",
    "X = MaxPooling2D((3, 3))(X)\n",
    "\n",
    "X = Conv2D(128, (3, 3), activation='relu')(X)\n",
    "X = MaxPooling2D((2, 2), strides=(2, 2))(X)\n",
    "\n",
    "X = Conv2D(256, (3, 3), activation='relu')(X)\n",
    "X = MaxPooling2D((2, 2))(X)\n",
    "\n",
    "X = Flatten()(X)\n",
    "\n",
    "dense_1 = Dense(256, activation='relu')(X)\n",
    "dense_2 = Dense(256, activation='relu' )(X)\n",
    "dense_3 = Dense(128, activation='relu' )(dense_2)\n",
    "dropout_1 = Dropout(0.4)(dense_1)\n",
    "dropout_2 = Dropout(0.4)(dense_3)\n",
    "output_1 = Dense(1,activation='sigmoid', name='gender_output')(dropout_1)\n",
    "output_2 = Dense(1, activation='relu', name='age_output')(dropout_2)\n",
    "\n",
    "model = Model(inputs=[inputs], outputs=[output_1,output_2])"
   ]
  },
  {
   "cell_type": "code",
   "execution_count": 8,
   "id": "1ba4abaa",
   "metadata": {},
   "outputs": [
    {
     "name": "stdout",
     "output_type": "stream",
     "text": [
      "Epoch 1/10\n",
      "320/320 [==============================] - 217s 655ms/step - loss: 16.7963 - gender_output_loss: 0.6776 - age_output_loss: 16.1188 - gender_output_accuracy: 0.6578 - age_output_accuracy: 0.0484 - val_loss: 26.1215 - val_gender_output_loss: 0.5976 - val_age_output_loss: 25.5239 - val_gender_output_accuracy: 0.7809 - val_age_output_accuracy: 0.0562\n",
      "Epoch 2/10\n",
      "320/320 [==============================] - 197s 614ms/step - loss: 12.9054 - gender_output_loss: 0.5121 - age_output_loss: 12.3933 - gender_output_accuracy: 0.7559 - age_output_accuracy: 0.0247 - val_loss: 13.8784 - val_gender_output_loss: 0.5170 - val_age_output_loss: 13.3614 - val_gender_output_accuracy: 0.7893 - val_age_output_accuracy: 0.0337\n",
      "Epoch 3/10\n",
      "320/320 [==============================] - 192s 601ms/step - loss: 11.2964 - gender_output_loss: 0.4434 - age_output_loss: 10.8529 - gender_output_accuracy: 0.7972 - age_output_accuracy: 0.0113 - val_loss: 11.3588 - val_gender_output_loss: 0.4012 - val_age_output_loss: 10.9577 - val_gender_output_accuracy: 0.8118 - val_age_output_accuracy: 0.0197\n",
      "Epoch 4/10\n",
      "320/320 [==============================] - 189s 592ms/step - loss: 10.3400 - gender_output_loss: 0.4115 - age_output_loss: 9.9286 - gender_output_accuracy: 0.8175 - age_output_accuracy: 0.0063 - val_loss: 10.8006 - val_gender_output_loss: 0.3871 - val_age_output_loss: 10.4135 - val_gender_output_accuracy: 0.8427 - val_age_output_accuracy: 0.0197\n",
      "Epoch 5/10\n",
      "320/320 [==============================] - 135s 423ms/step - loss: 9.6249 - gender_output_loss: 0.3514 - age_output_loss: 9.2735 - gender_output_accuracy: 0.8363 - age_output_accuracy: 0.0078 - val_loss: 11.4630 - val_gender_output_loss: 0.3790 - val_age_output_loss: 11.0839 - val_gender_output_accuracy: 0.8202 - val_age_output_accuracy: 0.0140\n",
      "Epoch 6/10\n",
      "320/320 [==============================] - 138s 431ms/step - loss: 9.3474 - gender_output_loss: 0.3457 - age_output_loss: 9.0017 - gender_output_accuracy: 0.8453 - age_output_accuracy: 0.0053 - val_loss: 11.4494 - val_gender_output_loss: 0.3888 - val_age_output_loss: 11.0606 - val_gender_output_accuracy: 0.8287 - val_age_output_accuracy: 0.0056\n",
      "Epoch 7/10\n",
      "320/320 [==============================] - 131s 410ms/step - loss: 9.0447 - gender_output_loss: 0.3208 - age_output_loss: 8.7239 - gender_output_accuracy: 0.8525 - age_output_accuracy: 0.0053 - val_loss: 10.8631 - val_gender_output_loss: 0.3588 - val_age_output_loss: 10.5044 - val_gender_output_accuracy: 0.8371 - val_age_output_accuracy: 0.0028\n",
      "Epoch 8/10\n",
      "320/320 [==============================] - 132s 414ms/step - loss: 8.3975 - gender_output_loss: 0.3018 - age_output_loss: 8.0958 - gender_output_accuracy: 0.8609 - age_output_accuracy: 0.0059 - val_loss: 9.5459 - val_gender_output_loss: 0.3531 - val_age_output_loss: 9.1928 - val_gender_output_accuracy: 0.8399 - val_age_output_accuracy: 0.0056\n",
      "Epoch 9/10\n",
      "320/320 [==============================] - 125s 391ms/step - loss: 8.1591 - gender_output_loss: 0.2908 - age_output_loss: 7.8683 - gender_output_accuracy: 0.8681 - age_output_accuracy: 0.0063 - val_loss: 9.7983 - val_gender_output_loss: 0.3327 - val_age_output_loss: 9.4657 - val_gender_output_accuracy: 0.8399 - val_age_output_accuracy: 0.0084\n",
      "Epoch 10/10\n",
      "320/320 [==============================] - 126s 393ms/step - loss: 7.8277 - gender_output_loss: 0.2722 - age_output_loss: 7.5555 - gender_output_accuracy: 0.8756 - age_output_accuracy: 0.0053 - val_loss: 8.5628 - val_gender_output_loss: 0.3138 - val_age_output_loss: 8.2490 - val_gender_output_accuracy: 0.8764 - val_age_output_accuracy: 0.0056\n"
     ]
    }
   ],
   "source": [
    "model.compile(loss=['binary_crossentropy','mae'], optimizer='adam', metrics=['accuracy'])\n",
    "history = model.fit(x=x_train, y=[y_gender, y_age], batch_size = 10, epochs=10, validation_split= 0.1)"
   ]
  },
  {
   "cell_type": "code",
   "execution_count": 9,
   "id": "b67daf74",
   "metadata": {},
   "outputs": [
    {
     "name": "stdout",
     "output_type": "stream",
     "text": [
      "Gender Accuracy: : 82.67%\n",
      "Age Accuracy: : 1.71%\n"
     ]
    }
   ],
   "source": [
    "val_gen_acc = np.mean(history.history['val_gender_output_accuracy']) \n",
    "print(\"%s: %.2f%%\" % ('Gender Accuracy: ',(val_gen_acc*100)))\n",
    "val_age_acc = np.mean(history.history['val_age_output_accuracy']) \n",
    "print(\"%s: %.2f%%\" % ('Age Accuracy: ',(val_age_acc*100)))"
   ]
  },
  {
   "cell_type": "code",
   "execution_count": 10,
   "id": "f9ddc415",
   "metadata": {},
   "outputs": [
    {
     "data": {
      "image/png": "[encoded data removed]",
      "text/plain": [
       "<Figure size 432x288 with 1 Axes>"
      ]
     },
     "metadata": {
      "needs_background": "light"
     },
     "output_type": "display_data"
    },
    {
     "data": {
      "image/png": "[encoded data removed]",
      "text/plain": [
       "<Figure size 432x288 with 1 Axes>"
      ]
     },
     "metadata": {
      "needs_background": "light"
     },
     "output_type": "display_data"
    }
   ],
   "source": [
    "# Plotting the Gender Losses\n",
    "plt.plot(history.history['gender_output_loss'])\n",
    "plt.plot(history.history['val_gender_output_loss'])\n",
    "plt.title('Gender loss')\n",
    "plt.ylabel('loss')\n",
    "plt.xlabel('epoch')\n",
    "plt.legend(['train', 'validation'], loc='upper left')\n",
    "plt.show()\n",
    "\n",
    "# Plotting the Age Losses\n",
    "plt.plot(history.history['age_output_loss'])\n",
    "plt.plot(history.history['val_age_output_loss'])\n",
    "plt.title('Age loss')\n",
    "plt.ylabel('loss')\n",
    "plt.xlabel('epoch')\n",
    "plt.legend(['train', 'validation'], loc='upper left')\n",
    "plt.show()"
   ]
  },
  {
   "cell_type": "code",
   "execution_count": null,
   "id": "819eaadf",
   "metadata": {},
   "outputs": [],
   "source": []
  }
 ],
 "metadata": {
  "kernelspec": {
   "display_name": "Python 3 (ipykernel)",
   "language": "python",
   "name": "python3"
  },
  "language_info": {
   "codemirror_mode": {
    "name": "ipython",
    "version": 3
   },
   "file_extension": ".py",
   "mimetype": "text/x-python",
   "name": "python",
   "nbconvert_exporter": "python",
   "pygments_lexer": "ipython3",
   "version": "3.9.12"
  }
 },
 "nbformat": 4,
 "nbformat_minor": 5
}
